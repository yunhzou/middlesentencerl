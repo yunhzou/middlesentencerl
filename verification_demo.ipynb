{
 "cells": [
  {
   "cell_type": "code",
   "execution_count": 1,
   "id": "a7d29b0f",
   "metadata": {},
   "outputs": [
    {
     "name": "stderr",
     "output_type": "stream",
     "text": [
      "/home/yunhengzou/micromamba/envs/middlesentencerl/lib/python3.11/site-packages/tqdm/auto.py:21: TqdmWarning: IProgress not found. Please update jupyter and ipywidgets. See https://ipywidgets.readthedocs.io/en/stable/user_install.html\n",
      "  from .autonotebook import tqdm as notebook_tqdm\n"
     ]
    }
   ],
   "source": [
    "from datasets import load_from_disk\n",
    "dataset_dir = \"/home/yunhengzou/middlesentencerldata/Nvidia_OpenCodeReasoning\"\n",
    "dataset = load_from_disk(dataset_dir)"
   ]
  },
  {
   "cell_type": "code",
   "execution_count": 2,
   "id": "294c1313",
   "metadata": {},
   "outputs": [
    {
     "name": "stdout",
     "output_type": "stream",
     "text": [
      "{'id': 'c0d4209f929db2b5bf3526a47a2520b0', 'input': 'Problem description.\\nVipul is a hardworking super-hero who maintains the bracket ratio of all the strings in the world. Recently he indulged himself in saving the string population so much that he lost his ability for checking brackets (luckily, not permanently ).Being his super-hero friend\\xa0help him in his time of hardship.\\nInput\\n\\nThe first line of the input contains an integer T denoting the number of test cases. The description of T test cases follows.\\nThe first line of each test case contains a single string S denoting the string to be checked.\\n\\n\\nOutput\\n\\nFor each test case, output a single line printing \"YES\" or \"NO\" (without \" \" and in uppercase only) , denoting if the brackets in the given string is balanced or not .\\n\\n\\nConstraints\\n\\n1 ≤ T ≤ 10\\n1 ≤ length of S ≤ 60\\n\\n\\nExample\\nInput:\\n3\\n((()))\\n(())()\\n()(()\\n\\nOutput:\\nYES\\nYES\\nNO\\n\\n\\xa0\\n\\nExplanation\\nExample is self-explanatory.', 'output': '<think>\\nOkay, I need to solve this problem where I have to check if the brackets in a string are balanced. Hmm, so the input is a string consisting of parentheses, and I have to determine if they\\'re properly balanced. The example given has three test cases. Let\\'s see.\\n\\nSo, the problem is similar to the classic valid parentheses problem. Right. The standard approach for that is using a stack. Let me think. For every opening bracket \\'(\\', we push it onto the stack. When we encounter a closing bracket \\')\\', we check if the stack is not empty and the top is an opening bracket. If so, we pop it. If at any point the closing bracket doesn\\'t have a matching opening, it\\'s invalid. At the end, the stack should be empty for it to be balanced.\\n\\nWait, but what about other characters? Oh, the problem says the string S is the one to be checked, but the examples only have parentheses. So maybe the input string only contains \\'(\\' and \\')\\'. But the problem statement doesn\\'t specify. Hmm, but the problem says \"bracket ratio\" so maybe all characters in S are brackets. So I can assume that S consists of only parentheses? Or do I need to ignore other characters? The problem statement says \"checking brackets\", so perhaps any non-bracket characters can be ignored. Wait, but the input examples don\\'t have any, and the problem says \"the brackets in the given string is balanced\". So perhaps the entire string is made of parentheses. So in this case, the code can process each character as a bracket.\\n\\nSo steps:\\n\\nFor each test case (each string S):\\n\\n1. Initialize a stack (maybe a list in Python).\\n2. Iterate through each character in S:\\n   a. If it\\'s \\'(\\', push to stack.\\n   b. If it\\'s \\')\\', check if stack is empty. If empty, return NO. Otherwise, pop the top element.\\n   c. Any other characters? Probably, but maybe the problem says S only has brackets. But the problem statement isn\\'t clear. Wait, the input examples have only parentheses, but the problem says \"string S\". So perhaps the code should process all characters, but only consider \\'(\\' and \\')\\'. So other characters are ignored? Or are they considered invalid?\\n\\nWait, the problem says \"bracket ratio\", which implies that the string may have other characters, but we are only checking the brackets. So, for example, if the string is \"a(b)c)\", the brackets are \"(()\", which would be unbalanced. So the code should process only the brackets and ignore other characters.\\n\\nWait, but the problem statement says \"the brackets in the given string is balanced\". So the code should check if the parentheses in the string are balanced. So other characters don\\'t affect the balance.\\n\\nSo, in the code, we can loop through each character in S. For each character, if it\\'s \\'(\\', push to stack. If it\\'s \\')\\', check the stack. Other characters are ignored.\\n\\nWait, but in the problem\\'s example, the input strings are all parentheses, but the code needs to handle other characters. So perhaps in the code, we process all characters, but only \\'(\\' and \\')\\'.\\n\\nSo the algorithm:\\n\\nInitialize stack.\\n\\nFor each char in S:\\n\\n   if char is \\'(\\': push to stack.\\n\\n   elif char is \\')\\':\\n\\n       if stack is not empty and top is \\'(\\': pop.\\n\\n       else: invalid, return NO.\\n\\n   else:\\n\\n       ignore (or perhaps the problem considers other characters as invalid? No, the problem says to check the brackets. So other characters are irrelevant.)\\n\\nWait, but in the problem\\'s example, the third input is \"()(()\", which outputs NO. Let\\'s see:\\n\\n\"()((\" would have:\\n\\nAfter first two, stack is empty. Then two opens. So stack has two, which is not empty. So output NO.\\n\\nSo the code would process each character, and if at any point a closing bracket is found without a corresponding open, return NO. At the end, check if stack is empty.\\n\\nSo in code:\\n\\nFor each test case:\\n\\nstack = []\\n\\nfor c in S:\\n\\n    if c == \\'(\\':\\n\\n        stack.append(c)\\n\\n    elif c == \\')\\':\\n\\n        if len(stack) == 0:\\n\\n            # invalid, since no opening to match.\\n\\n            # So can immediately return NO for this test case.\\n\\n            # So perhaps, after this, break and return NO.\\n\\n            # But how to handle in code? Well, perhaps after any invalid step, set a flag.\\n\\n        else:\\n\\n            stack.pop()\\n\\n    else:\\n\\n        # ignore?\\n\\n        pass\\n\\nAfter processing all characters, check if stack is empty. If yes, then YES, else NO.\\n\\nWait, but if there are other characters, but the brackets are balanced, then it\\'s YES.\\n\\nBut the problem\\'s example inputs don\\'t have other characters. But the code should handle cases where there are other characters.\\n\\nSo the code would process each character, but only consider \\'(\\' and \\')\\'.\\n\\nWait, but the problem\\'s input is a single string S. So for example, if S is \"a()\", then the code would process the \\'a\\' as a non-bracket, ignore it. The brackets are \\'()\\', so balanced. Output YES.\\n\\nBut the problem\\'s sample input may not have such cases, but the code must handle according to the problem\\'s requirements.\\n\\nSo the code should process each character in S, but only care about the parentheses.\\n\\nSo the code would:\\n\\nFor each test case:\\n\\nstack = []\\n\\nbalanced = True\\n\\nfor c in S:\\n\\n    if c == \\'(\\':\\n\\n        stack.append(c)\\n\\n    elif c == \\')\\':\\n\\n        if not stack:\\n\\n            balanced = False\\n\\n            break  # can\\'t have more closing than opens\\n\\n        else:\\n\\n            stack.pop()\\n\\n    # else: do nothing\\n\\nAfter processing all characters, check if stack is empty and balanced is True.\\n\\nWait, but even if during processing, we had a closing bracket that didn\\'t match, balanced is set to False. And stack could be empty or not.\\n\\nSo the code should first check if during processing any invalid case happened (like closing bracket without an open). Then, after processing all, check if stack is empty.\\n\\nWait, the code needs to check two conditions:\\n\\n1. For every closing bracket, there was a corresponding opening bracket. So if at any time a closing bracket is encountered when the stack is empty, the entire string is invalid.\\n\\n2. At the end, all opening brackets have been closed. So stack is empty.\\n\\nSo the code can track a flag (like valid = True). Then, for each closing bracket, check if the stack is not empty. If stack is empty, set valid to False and break. Otherwise, pop.\\n\\nAfter processing all characters, check if valid is still True and stack is empty.\\n\\nSo code steps:\\n\\nFor a given string S:\\n\\nvalid = True\\n\\nstack = []\\n\\nfor c in S:\\n\\n    if c == \\'(\\':\\n\\n        stack.append(c)\\n\\n    elif c == \\')\\':\\n\\n        if len(stack) == 0:\\n\\n            valid = False\\n\\n            break\\n\\n        else:\\n\\n            stack.pop()\\n\\n    else:\\n\\n        continue  # ignore other characters\\n\\nif valid and len(stack) == 0:\\n\\n    print(\"YES\")\\n\\nelse:\\n\\n    print(\"NO\")\\n\\nYes. So this code would work for the example.\\n\\nTesting the third example: \"()(()\"\\n\\nProcessing each character:\\n\\nFirst character \\'(\\', stack becomes [\\'(\\']\\n\\nSecond \\')\\', pop, stack is empty.\\n\\nThird \\'(\\', stack becomes [\\'(\\']\\n\\nFourth \\'(\\', stack becomes [\\'(\\', \\'(\\']\\n\\nFifth \\')\\', pop, stack becomes [\\'(\\']\\n\\nAfter processing all characters, valid is True (since no invalid closing) but stack has size 1. So overall, output is NO.\\n\\nWhich matches the example.\\n\\nAnother test case: \"(()\" → stack ends with size 1 → NO.\\n\\nAnother test case: \"())\" → during processing the second \\')\\', stack is empty → valid is False → output NO.\\n\\nSo the code should work.\\n\\nNow, handling multiple test cases.\\n\\nIn Python, the input is T test cases. Each test case is a single line string.\\n\\nSo the code would read T, then read T lines, each being S.\\n\\nSo code outline:\\n\\nRead T as integer.\\n\\nFor T times:\\n\\n    read S (using input().strip())\\n\\n    process S as per above.\\n\\nBut in Python, when reading lines, sometimes leading/trailing spaces can be an issue, but the problem says \\'the first line of each test case contains a single string S\\', so input().strip() should get the correct string.\\n\\nSo the code would be:\\n\\nT = int(input())\\n\\nfor _ in range(T):\\n\\n    s = input().strip()\\n\\n    stack = []\\n\\n    valid = True\\n\\n    for c in s:\\n\\n        if c == \\'(\\':\\n\\n            stack.append(c)\\n\\n        elif c == \\')\\':\\n\\n            if not stack:\\n\\n                valid = False\\n\\n                break\\n\\n            else:\\n\\n                stack.pop()\\n\\n        # else ignored\\n\\n    if valid and not stack:\\n\\n        print(\"YES\")\\n\\n    else:\\n\\n        print(\"NO\")\\n\\nYes.\\n\\nTesting this code against the sample input:\\n\\nSample Input:\\n\\n3\\n\\n((()))\\n\\n(())() \\n\\n()(()\\n\\nSample Output:\\n\\nYES\\n\\nYES\\n\\nNO\\n\\nFirst test case: \\'((()))\\' → each step:\\n\\n\\'(\\', \\'(\\', \\'(\\', \\')\\', \\')\\', \\')\\'\\n\\nStack after each step: [ \\'(\\', \\'(\\', \\'(\\', ] → then three pops. Ends empty. valid is True. So YES.\\n\\nSecond test case: \\'(())()\\' → process as:\\n\\n\\'(\\', \\'(\\', \\')\\', \\')\\', \\'(\\', \\')\\'\\n\\nStack after:\\n\\npush ( → [ ( ]\\n\\npush ( → [ (, ( ]\\n\\npop → [ ( ]\\n\\npop → empty.\\n\\npush ( → [ ( ]\\n\\npop → empty. All processed. Valid, stack empty → YES.\\n\\nThird test case: \\'()(()\\' → as before. Ends with stack size 1. So NO.\\n\\nSo code works.\\n\\nAnother test case: a string with other characters. Like \\'a(b)c)\\'.\\n\\nProcessing: the brackets are \\'( ) )\\'. So first \\'(\\', then \\')\\', then \\')\\'. At the third \\')\\', stack is empty. So valid becomes False. So output is NO.\\n\\nAnother test case: \\'()a\\' → stack processed as \\'(\\', then \\')\\', ends empty. So YES.\\n\\nYes, code handles that.\\n\\nSo the code should be correct.\\n</think>\\n\\n```python\\nT = int(input())\\nfor _ in range(T):\\n    s = input().strip()\\n    stack = []\\n    valid = True\\n    for c in s:\\n        if c == \\'(\\':\\n            stack.append(c)\\n        elif c == \\')\\':\\n            if not stack:\\n                valid = False\\n                break\\n            stack.pop()\\n    if valid and not stack:\\n        print(\"YES\")\\n    else:\\n        print(\"NO\")\\n```', 'source': 'codechef', 'license': 'cc-by-4.0', 'dataset': 'code_contests', 'split': 'train', 'difficulty': 'UNKNOWN_DIFFICULTY', 'solution': 'T = int(input())\\nfor _ in range(T):\\n    s = input().strip()\\n    stack = []\\n    valid = True\\n    for c in s:\\n        if c == \\'(\\':\\n            stack.append(c)\\n        elif c == \\')\\':\\n            if not stack:\\n                valid = False\\n                break\\n            stack.pop()\\n    if valid and not stack:\\n        print(\"YES\")\\n    else:\\n        print(\"NO\")'}\n"
     ]
    }
   ],
   "source": [
    "for example in dataset.take(1):\n",
    "    print(example)"
   ]
  },
  {
   "cell_type": "code",
   "execution_count": 3,
   "id": "8cab2722",
   "metadata": {},
   "outputs": [],
   "source": [
    "from OpenCodeReasoning_verification import check_code"
   ]
  },
  {
   "cell_type": "code",
   "execution_count": 4,
   "id": "f0c5035a",
   "metadata": {},
   "outputs": [
    {
     "data": {
      "text/plain": [
       "(True, '')"
      ]
     },
     "execution_count": 4,
     "metadata": {},
     "output_type": "execute_result"
    }
   ],
   "source": [
    "check_code(example[\"solution\"])"
   ]
  },
  {
   "cell_type": "code",
   "execution_count": 5,
   "id": "80834cc2",
   "metadata": {},
   "outputs": [
    {
     "data": {
      "text/plain": [
       "(False, \"<string>:1:8: SyntaxError: expected ':'\\n    if True\\n           ^\")"
      ]
     },
     "execution_count": 5,
     "metadata": {},
     "output_type": "execute_result"
    }
   ],
   "source": [
    "check_code(\"\"\"if True\n",
    "    print(\"Hello\")\"\"\")"
   ]
  },
  {
   "cell_type": "code",
   "execution_count": 6,
   "id": "c3a8e130",
   "metadata": {},
   "outputs": [
    {
     "data": {
      "text/plain": [
       "(False,\n",
       " '<string>:3:1: IndentationError: expected an indented block after function definition on line 2\\n    print(\"hi\")\\n    ^')"
      ]
     },
     "execution_count": 6,
     "metadata": {},
     "output_type": "execute_result"
    }
   ],
   "source": [
    "code =\"\"\"\n",
    "def greet():\n",
    "print(\"hi\")\n",
    "\n",
    "\"\"\"\n",
    "\n",
    "check_code(code)"
   ]
  },
  {
   "cell_type": "code",
   "execution_count": 7,
   "id": "c5c2b29b",
   "metadata": {},
   "outputs": [
    {
     "data": {
      "text/plain": [
       "(True, '')"
      ]
     },
     "execution_count": 7,
     "metadata": {},
     "output_type": "execute_result"
    }
   ],
   "source": [
    "code =\"\"\"\n",
    "def greet():\n",
    "    print(\"hi\")\n",
    "\n",
    "\"\"\"\n",
    "\n",
    "check_code(code)"
   ]
  }
 ],
 "metadata": {
  "kernelspec": {
   "display_name": "middlesentencerl",
   "language": "python",
   "name": "python3"
  },
  "language_info": {
   "codemirror_mode": {
    "name": "ipython",
    "version": 3
   },
   "file_extension": ".py",
   "mimetype": "text/x-python",
   "name": "python",
   "nbconvert_exporter": "python",
   "pygments_lexer": "ipython3",
   "version": "3.11.13"
  }
 },
 "nbformat": 4,
 "nbformat_minor": 5
}
